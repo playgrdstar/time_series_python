{
 "cells": [
  {
   "cell_type": "markdown",
   "metadata": {},
   "source": [
    "### Time Series Analysis in Python ###"
   ]
  },
  {
   "cell_type": "markdown",
   "metadata": {},
   "source": [
    "Time series analysis simply means analysing data that changes over time. While we can apply many of the same techniques that we use to analyse other data-types to time series data, there are some other concepts and techniques that we need to learn."
   ]
  },
  {
   "cell_type": "code",
   "execution_count": 1,
   "metadata": {
    "collapsed": true
   },
   "outputs": [],
   "source": [
    "import numpy as np\n",
    "import pandas as pd\n",
    "\n",
    "import matplotlib.pyplot as plt\n",
    "%matplotlib inline"
   ]
  },
  {
   "cell_type": "markdown",
   "metadata": {},
   "source": [
    "We will need a library to help us with dates and time when it comes to time series analysis."
   ]
  },
  {
   "cell_type": "code",
   "execution_count": 2,
   "metadata": {
    "collapsed": true
   },
   "outputs": [],
   "source": [
    "import datetime"
   ]
  },
  {
   "cell_type": "markdown",
   "metadata": {},
   "source": [
    "Datetime is a specific object that comes with a lot of convenience functions for dealing with (obviously) date and time."
   ]
  },
  {
   "cell_type": "code",
   "execution_count": 3,
   "metadata": {},
   "outputs": [
    {
     "data": {
      "text/plain": [
       "datetime.datetime(2018, 12, 31, 0, 0)"
      ]
     },
     "execution_count": 3,
     "metadata": {},
     "output_type": "execute_result"
    }
   ],
   "source": [
    "datetime.datetime(2018, 12, 31)"
   ]
  },
  {
   "cell_type": "markdown",
   "metadata": {},
   "source": [
    "Getting date/time from strings and converting date/time to strings"
   ]
  },
  {
   "cell_type": "code",
   "execution_count": 4,
   "metadata": {},
   "outputs": [
    {
     "data": {
      "text/plain": [
       "datetime.datetime(2018, 12, 31, 0, 0)"
      ]
     },
     "execution_count": 4,
     "metadata": {},
     "output_type": "execute_result"
    }
   ],
   "source": [
    "datetime.datetime.strptime('2018/12/31', '%Y/%m/%d')"
   ]
  },
  {
   "cell_type": "code",
   "execution_count": 5,
   "metadata": {},
   "outputs": [
    {
     "data": {
      "text/plain": [
       "'2018/12/31'"
      ]
     },
     "execution_count": 5,
     "metadata": {},
     "output_type": "execute_result"
    }
   ],
   "source": [
    "datetime.datetime(2018, 12, 31).strftime('%Y/%m/%d')"
   ]
  },
  {
   "cell_type": "markdown",
   "metadata": {},
   "source": [
    "Date/time in Pandas"
   ]
  },
  {
   "cell_type": "code",
   "execution_count": 6,
   "metadata": {},
   "outputs": [
    {
     "data": {
      "text/plain": [
       "Timestamp('2018-01-21 10:00:00')"
      ]
     },
     "execution_count": 6,
     "metadata": {},
     "output_type": "execute_result"
    }
   ],
   "source": [
    "pd.to_datetime(\"21st of Jan, 2018, 10am\")"
   ]
  },
  {
   "cell_type": "code",
   "execution_count": 7,
   "metadata": {},
   "outputs": [
    {
     "data": {
      "text/plain": [
       "Timestamp('2018-12-31 12:00:00')"
      ]
     },
     "execution_count": 7,
     "metadata": {},
     "output_type": "execute_result"
    }
   ],
   "source": [
    "pd.to_datetime(\"31/12/2018, 12pm\")"
   ]
  },
  {
   "cell_type": "code",
   "execution_count": 8,
   "metadata": {},
   "outputs": [
    {
     "data": {
      "text/plain": [
       "Timestamp('2018-02-01 00:00:00')"
      ]
     },
     "execution_count": 8,
     "metadata": {},
     "output_type": "execute_result"
    }
   ],
   "source": [
    "# dayfirst to make clear what is the first number representing - day or month\n",
    "pd.to_datetime(\"1/2/2018\", dayfirst=True)"
   ]
  },
  {
   "cell_type": "code",
   "execution_count": 9,
   "metadata": {},
   "outputs": [
    {
     "data": {
      "text/plain": [
       "Timestamp('2018-01-02 00:00:00')"
      ]
     },
     "execution_count": 9,
     "metadata": {},
     "output_type": "execute_result"
    }
   ],
   "source": [
    "pd.to_datetime(\"1/2/2018\", dayfirst=False)"
   ]
  },
  {
   "cell_type": "markdown",
   "metadata": {},
   "source": [
    "Generating random time series data just means setting the index to a date/time series."
   ]
  },
  {
   "cell_type": "code",
   "execution_count": 10,
   "metadata": {},
   "outputs": [
    {
     "data": {
      "image/png": "[encoded data removed]",
      "text/plain": [
       "<matplotlib.figure.Figure at 0x1126085f8>"
      ]
     },
     "metadata": {},
     "output_type": "display_data"
    }
   ],
   "source": [
    "index = [pd.Timestamp(\"2018-01-01, 12pm\"), \n",
    "         pd.Timestamp(\"2018-01-02, 6am\"), \n",
    "         pd.Timestamp(\"2018-01-03, 3pm\"),\n",
    "         pd.Timestamp(\"2018-01-04, 2pm\"),\n",
    "         pd.Timestamp(\"2018-01-05, 10pm\")]\n",
    "\n",
    "ts = pd.Series(np.random.randn(len(index)), index=index)\n",
    "ts.plot(rot=90)\n",
    "plt.show()"
   ]
  },
  {
   "cell_type": "code",
   "execution_count": 11,
   "metadata": {},
   "outputs": [
    {
     "data": {
      "text/plain": [
       "DatetimeIndex(['2018-01-01 12:00:00', '2018-01-02 06:00:00',\n",
       "               '2018-01-03 15:00:00', '2018-01-04 14:00:00',\n",
       "               '2018-01-05 22:00:00'],\n",
       "              dtype='datetime64[ns]', freq=None)"
      ]
     },
     "execution_count": 11,
     "metadata": {},
     "output_type": "execute_result"
    }
   ],
   "source": [
    "ts.index"
   ]
  },
  {
   "cell_type": "markdown",
   "metadata": {},
   "source": [
    "There's no need to type out each of the dates/times. "
   ]
  },
  {
   "cell_type": "code",
   "execution_count": 12,
   "metadata": {
    "collapsed": true
   },
   "outputs": [],
   "source": [
    "index = pd.to_datetime([\"2018-01-01\", \"2018-01-02\", \"2018-01-03\"])\n",
    "ts_2 = pd.Series(np.random.randint(10,100, 3), index=index)"
   ]
  },
  {
   "cell_type": "code",
   "execution_count": 13,
   "metadata": {},
   "outputs": [
    {
     "data": {
      "text/plain": [
       "2018-01-01    62\n",
       "2018-01-02    49\n",
       "2018-01-03    16\n",
       "dtype: int64"
      ]
     },
     "execution_count": 13,
     "metadata": {},
     "output_type": "execute_result"
    }
   ],
   "source": [
    "ts_2"
   ]
  },
  {
   "cell_type": "markdown",
   "metadata": {},
   "source": [
    "We can just set the start time, and indicate the frequency desired."
   ]
  },
  {
   "cell_type": "code",
   "execution_count": 14,
   "metadata": {},
   "outputs": [
    {
     "data": {
      "text/plain": [
       "DatetimeIndex(['2017-01-31', '2017-02-28', '2017-03-31', '2017-04-30',\n",
       "               '2017-05-31', '2017-06-30', '2017-07-31', '2017-08-31',\n",
       "               '2017-09-30', '2017-10-31', '2017-11-30', '2017-12-31'],\n",
       "              dtype='datetime64[ns]', freq='M')"
      ]
     },
     "execution_count": 14,
     "metadata": {},
     "output_type": "execute_result"
    }
   ],
   "source": [
    "pd.date_range(start=\"2017-01-01\", periods=12, freq='M')"
   ]
  },
  {
   "cell_type": "markdown",
   "metadata": {},
   "source": [
    "Frequencies \n",
    "> B(business day), D(calendar day), W(weekly), M(month end), MS(month start), Q(quarter), A(annual), H(hourly), T(minutes), S(seconds), L(milliseconds), U(microseconds) "
   ]
  },
  {
   "cell_type": "markdown",
   "metadata": {},
   "source": [
    "Even a fairly arbitrary frequency is possible."
   ]
  },
  {
   "cell_type": "code",
   "execution_count": 15,
   "metadata": {},
   "outputs": [
    {
     "data": {
      "text/plain": [
       "DatetimeIndex(['2018-01-01 00:00:00', '2018-01-02 01:01:05',\n",
       "               '2018-01-03 02:02:10', '2018-01-04 03:03:15',\n",
       "               '2018-01-05 04:04:20'],\n",
       "              dtype='datetime64[ns]', freq='90065S')"
      ]
     },
     "execution_count": 15,
     "metadata": {},
     "output_type": "execute_result"
    }
   ],
   "source": [
    "pd.date_range(start=\"2018-01-01\", periods=5, freq='1D1h1min5s')"
   ]
  },
  {
   "cell_type": "code",
   "execution_count": 16,
   "metadata": {},
   "outputs": [
    {
     "data": {
      "text/plain": [
       "DatetimeIndex(['2018-01-01', '2018-01-02', '2018-01-03', '2018-01-04',\n",
       "               '2018-01-05', '2018-01-06', '2018-01-07', '2018-01-08',\n",
       "               '2018-01-09', '2018-01-10', '2018-01-14', '2018-01-21',\n",
       "               '2018-01-28', '2018-02-04', '2018-02-11', '2018-02-18',\n",
       "               '2018-02-25', '2018-03-04', '2018-03-11'],\n",
       "              dtype='datetime64[ns]', freq=None)"
      ]
     },
     "execution_count": 16,
     "metadata": {},
     "output_type": "execute_result"
    }
   ],
   "source": [
    "# Merging two time series\n",
    "s = pd.date_range(start=\"2018-01-01\", periods=10, freq='D')\n",
    "t = pd.date_range(start=\"2018-01-01\", periods=10, freq='W')\n",
    "s.union(t)"
   ]
  },
  {
   "cell_type": "markdown",
   "metadata": {},
   "source": [
    "Creating a random walk time series, which you will see looks like much of the financial data we see if fairly simple."
   ]
  },
  {
   "cell_type": "code",
   "execution_count": 17,
   "metadata": {},
   "outputs": [
    {
     "data": {
      "image/png": "[encoded data removed]",
      "text/plain": [
       "<matplotlib.figure.Figure at 0x112776cc0>"
      ]
     },
     "metadata": {},
     "output_type": "display_data"
    }
   ],
   "source": [
    "# Random walk time series\n",
    "index = pd.date_range(start=\"2018-02-28\", periods=1000, freq='D')\n",
    "ts_random = pd.Series(np.random.randn(len(index)), index=index)\n",
    "walk = ts_random.cumsum()\n",
    "walk.plot(rot=0)\n",
    "plt.show()"
   ]
  },
  {
   "cell_type": "code",
   "execution_count": 18,
   "metadata": {},
   "outputs": [
    {
     "data": {
      "text/plain": [
       "2018-03-01    0.777562\n",
       "2018-03-02    0.413725\n",
       "2018-03-03   -0.183474\n",
       "2018-03-04    0.567550\n",
       "2018-03-05    1.035431\n",
       "2018-03-06   -1.390770\n",
       "2018-03-07    0.937524\n",
       "2018-03-08   -0.192736\n",
       "2018-03-09   -0.225089\n",
       "2018-03-10   -0.047632\n",
       "Freq: D, dtype: float64"
      ]
     },
     "execution_count": 18,
     "metadata": {},
     "output_type": "execute_result"
    }
   ],
   "source": [
    "# Slicing and dicing as usual\n",
    "ts_random['2018-03-01':'2018-03-10']"
   ]
  },
  {
   "cell_type": "code",
   "execution_count": 19,
   "metadata": {},
   "outputs": [
    {
     "data": {
      "text/plain": [
       "2018-03-01    0.777562\n",
       "2018-03-02    0.413725\n",
       "2018-03-03   -0.183474\n",
       "2018-03-04    0.567550\n",
       "2018-03-05    1.035431\n",
       "2018-03-06   -1.390770\n",
       "2018-03-07    0.937524\n",
       "2018-03-08   -0.192736\n",
       "2018-03-09   -0.225089\n",
       "2018-03-10   -0.047632\n",
       "2018-03-11   -0.715712\n",
       "2018-03-12   -0.027579\n",
       "2018-03-13    0.757308\n",
       "2018-03-14   -1.244572\n",
       "2018-03-15    0.030548\n",
       "2018-03-16    0.545781\n",
       "2018-03-17    0.040858\n",
       "2018-03-18   -0.076851\n",
       "2018-03-19    1.821589\n",
       "2018-03-20    1.015278\n",
       "2018-03-21    0.263255\n",
       "2018-03-22   -0.239495\n",
       "2018-03-23    0.790515\n",
       "2018-03-24    0.128060\n",
       "2018-03-25   -0.598713\n",
       "2018-03-26   -0.558370\n",
       "2018-03-27    0.485098\n",
       "2018-03-28    0.181652\n",
       "2018-03-29    2.108756\n",
       "2018-03-30    0.046867\n",
       "2018-03-31   -0.715577\n",
       "Freq: D, dtype: float64"
      ]
     },
     "execution_count": 19,
     "metadata": {},
     "output_type": "execute_result"
    }
   ],
   "source": [
    "# Slicing by month\n",
    "ts_random['2018-03']"
   ]
  },
  {
   "cell_type": "code",
   "execution_count": 20,
   "metadata": {},
   "outputs": [
    {
     "data": {
      "text/plain": [
       "2018-03-01    0.777562\n",
       "2018-03-02    0.413725\n",
       "2018-03-03   -0.183474\n",
       "2018-03-04    0.567550\n",
       "2018-03-05    1.035431\n",
       "2018-03-06   -1.390770\n",
       "2018-03-07    0.937524\n",
       "2018-03-08   -0.192736\n",
       "2018-03-09   -0.225089\n",
       "2018-03-10   -0.047632\n",
       "Freq: D, dtype: float64"
      ]
     },
     "execution_count": 20,
     "metadata": {},
     "output_type": "execute_result"
    }
   ],
   "source": [
    "# Shifting the values\n",
    "ts_cut = ts_random['2018-03-01':'2018-03-10']\n",
    "ts_cut"
   ]
  },
  {
   "cell_type": "code",
   "execution_count": 21,
   "metadata": {},
   "outputs": [
    {
     "data": {
      "text/plain": [
       "2018-03-01         NaN\n",
       "2018-03-02         NaN\n",
       "2018-03-03         NaN\n",
       "2018-03-04    0.777562\n",
       "2018-03-05    0.413725\n",
       "2018-03-06   -0.183474\n",
       "2018-03-07    0.567550\n",
       "2018-03-08    1.035431\n",
       "2018-03-09   -1.390770\n",
       "2018-03-10    0.937524\n",
       "Freq: D, dtype: float64"
      ]
     },
     "execution_count": 21,
     "metadata": {},
     "output_type": "execute_result"
    }
   ],
   "source": [
    "ts_cut.shift(3) # negative values shift backwards"
   ]
  },
  {
   "cell_type": "markdown",
   "metadata": {},
   "source": [
    "We can also deal with ** time deltas **, i.e. differences expressed in time units quite easily."
   ]
  },
  {
   "cell_type": "code",
   "execution_count": 22,
   "metadata": {},
   "outputs": [
    {
     "data": {
      "text/plain": [
       "Timedelta('1 days 00:00:01')"
      ]
     },
     "execution_count": 22,
     "metadata": {},
     "output_type": "execute_result"
    }
   ],
   "source": [
    "pd.Timedelta(days=1) + pd.Timedelta(seconds=1)"
   ]
  },
  {
   "cell_type": "code",
   "execution_count": 23,
   "metadata": {},
   "outputs": [
    {
     "data": {
      "text/plain": [
       "Timedelta('0 days 00:00:33.300000')"
      ]
     },
     "execution_count": 23,
     "metadata": {},
     "output_type": "execute_result"
    }
   ],
   "source": [
    "pd.to_timedelta('33.3s')"
   ]
  },
  {
   "cell_type": "markdown",
   "metadata": {},
   "source": [
    "Creating a series of time deltas"
   ]
  },
  {
   "cell_type": "code",
   "execution_count": 24,
   "metadata": {},
   "outputs": [
    {
     "data": {
      "text/plain": [
       "TimedeltaIndex(['0 days', '1 days', '2 days', '3 days', '4 days', '5 days',\n",
       "                '6 days'],\n",
       "               dtype='timedelta64[ns]', freq=None)"
      ]
     },
     "execution_count": 24,
     "metadata": {},
     "output_type": "execute_result"
    }
   ],
   "source": [
    "pd.to_timedelta(np.arange(7), unit='D')"
   ]
  },
  {
   "cell_type": "markdown",
   "metadata": {},
   "source": [
    "** Time Series Plotting **"
   ]
  },
  {
   "cell_type": "code",
   "execution_count": 25,
   "metadata": {},
   "outputs": [
    {
     "data": {
      "image/png": "[encoded data removed]",
      "text/plain": [
       "<matplotlib.figure.Figure at 0x1129166d8>"
      ]
     },
     "metadata": {},
     "output_type": "display_data"
    }
   ],
   "source": [
    "ts = pd.Series(np.random.randn(1000), index=pd.date_range('1/1/2017', periods=1000))\n",
    "df = pd.DataFrame(np.random.randn(1000, 4), index=ts.index, columns=['A', 'B', 'C', 'D'])\n",
    "df = df.cumsum()\n",
    "df.plot(color=['k', '0.75', '0.5', '0.25'], ls='--')\n",
    "plt.show()"
   ]
  },
  {
   "cell_type": "markdown",
   "metadata": {},
   "source": [
    "Let's now use real data on the USDSGD exchange rate to show what we would typically do to process time series data."
   ]
  },
  {
   "cell_type": "code",
   "execution_count": 26,
   "metadata": {
    "collapsed": true
   },
   "outputs": [],
   "source": [
    "SGD = pd.read_csv('SGD.csv')"
   ]
  },
  {
   "cell_type": "markdown",
   "metadata": {},
   "source": [
    "We can see that the dates in this dataframe are simply strings now."
   ]
  },
  {
   "cell_type": "code",
   "execution_count": 27,
   "metadata": {},
   "outputs": [
    {
     "data": {
      "text/html": [
       "<div>\n",
       "<style>\n",
       "    .dataframe thead tr:only-child th {\n",
       "        text-align: right;\n",
       "    }\n",
       "\n",
       "    .dataframe thead th {\n",
       "        text-align: left;\n",
       "    }\n",
       "\n",
       "    .dataframe tbody tr th {\n",
       "        vertical-align: top;\n",
       "    }\n",
       "</style>\n",
       "<table border=\"1\" class=\"dataframe\">\n",
       "  <thead>\n",
       "    <tr style=\"text-align: right;\">\n",
       "      <th></th>\n",
       "      <th>Date</th>\n",
       "      <th>Open</th>\n",
       "      <th>High</th>\n",
       "      <th>Low</th>\n",
       "      <th>Last</th>\n",
       "      <th>Ask High</th>\n",
       "      <th>Bid Low</th>\n",
       "    </tr>\n",
       "  </thead>\n",
       "  <tbody>\n",
       "    <tr>\n",
       "      <th>0</th>\n",
       "      <td>01-07-04</td>\n",
       "      <td>1.7176</td>\n",
       "      <td>1.7188</td>\n",
       "      <td>1.7133</td>\n",
       "      <td>1.7148</td>\n",
       "      <td>NaN</td>\n",
       "      <td>1.7133</td>\n",
       "    </tr>\n",
       "    <tr>\n",
       "      <th>1</th>\n",
       "      <td>02-07-04</td>\n",
       "      <td>1.7146</td>\n",
       "      <td>1.7185</td>\n",
       "      <td>1.7108</td>\n",
       "      <td>1.7113</td>\n",
       "      <td>NaN</td>\n",
       "      <td>1.7108</td>\n",
       "    </tr>\n",
       "    <tr>\n",
       "      <th>2</th>\n",
       "      <td>05-07-04</td>\n",
       "      <td>1.7114</td>\n",
       "      <td>1.7185</td>\n",
       "      <td>1.7108</td>\n",
       "      <td>1.7155</td>\n",
       "      <td>NaN</td>\n",
       "      <td>1.7108</td>\n",
       "    </tr>\n",
       "  </tbody>\n",
       "</table>\n",
       "</div>"
      ],
      "text/plain": [
       "       Date   Open    High     Low    Last   Ask High  Bid Low\n",
       "0  01-07-04  1.7176  1.7188  1.7133  1.7148       NaN   1.7133\n",
       "1  02-07-04  1.7146  1.7185  1.7108  1.7113       NaN   1.7108\n",
       "2  05-07-04  1.7114  1.7185  1.7108  1.7155       NaN   1.7108"
      ]
     },
     "execution_count": 27,
     "metadata": {},
     "output_type": "execute_result"
    }
   ],
   "source": [
    "SGD.head(3)"
   ]
  },
  {
   "cell_type": "code",
   "execution_count": 28,
   "metadata": {},
   "outputs": [
    {
     "data": {
      "text/plain": [
       "str"
      ]
     },
     "execution_count": 28,
     "metadata": {},
     "output_type": "execute_result"
    }
   ],
   "source": [
    "type(SGD.loc[0,'Date'])"
   ]
  },
  {
   "cell_type": "markdown",
   "metadata": {},
   "source": [
    "Let's convert this to a datetime object and set it as the index."
   ]
  },
  {
   "cell_type": "code",
   "execution_count": 29,
   "metadata": {
    "collapsed": true
   },
   "outputs": [],
   "source": [
    "SGD['Date'] = pd.to_datetime(SGD['Date'], format='%d-%m-%y')\n",
    "SGD = SGD.set_index('Date')"
   ]
  },
  {
   "cell_type": "code",
   "execution_count": 30,
   "metadata": {},
   "outputs": [
    {
     "data": {
      "text/html": [
       "<div>\n",
       "<style>\n",
       "    .dataframe thead tr:only-child th {\n",
       "        text-align: right;\n",
       "    }\n",
       "\n",
       "    .dataframe thead th {\n",
       "        text-align: left;\n",
       "    }\n",
       "\n",
       "    .dataframe tbody tr th {\n",
       "        vertical-align: top;\n",
       "    }\n",
       "</style>\n",
       "<table border=\"1\" class=\"dataframe\">\n",
       "  <thead>\n",
       "    <tr style=\"text-align: right;\">\n",
       "      <th></th>\n",
       "      <th>Open</th>\n",
       "      <th>High</th>\n",
       "      <th>Low</th>\n",
       "      <th>Last</th>\n",
       "      <th>Ask High</th>\n",
       "      <th>Bid Low</th>\n",
       "    </tr>\n",
       "    <tr>\n",
       "      <th>Date</th>\n",
       "      <th></th>\n",
       "      <th></th>\n",
       "      <th></th>\n",
       "      <th></th>\n",
       "      <th></th>\n",
       "      <th></th>\n",
       "    </tr>\n",
       "  </thead>\n",
       "  <tbody>\n",
       "    <tr>\n",
       "      <th>2004-07-01</th>\n",
       "      <td>1.7176</td>\n",
       "      <td>1.7188</td>\n",
       "      <td>1.7133</td>\n",
       "      <td>1.7148</td>\n",
       "      <td>NaN</td>\n",
       "      <td>1.7133</td>\n",
       "    </tr>\n",
       "    <tr>\n",
       "      <th>2004-07-02</th>\n",
       "      <td>1.7146</td>\n",
       "      <td>1.7185</td>\n",
       "      <td>1.7108</td>\n",
       "      <td>1.7113</td>\n",
       "      <td>NaN</td>\n",
       "      <td>1.7108</td>\n",
       "    </tr>\n",
       "    <tr>\n",
       "      <th>2004-07-05</th>\n",
       "      <td>1.7114</td>\n",
       "      <td>1.7185</td>\n",
       "      <td>1.7108</td>\n",
       "      <td>1.7155</td>\n",
       "      <td>NaN</td>\n",
       "      <td>1.7108</td>\n",
       "    </tr>\n",
       "  </tbody>\n",
       "</table>\n",
       "</div>"
      ],
      "text/plain": [
       "             Open    High     Low    Last   Ask High  Bid Low\n",
       "Date                                                         \n",
       "2004-07-01  1.7176  1.7188  1.7133  1.7148       NaN   1.7133\n",
       "2004-07-02  1.7146  1.7185  1.7108  1.7113       NaN   1.7108\n",
       "2004-07-05  1.7114  1.7185  1.7108  1.7155       NaN   1.7108"
      ]
     },
     "execution_count": 30,
     "metadata": {},
     "output_type": "execute_result"
    }
   ],
   "source": [
    "SGD.head(3)"
   ]
  },
  {
   "cell_type": "code",
   "execution_count": 31,
   "metadata": {},
   "outputs": [
    {
     "name": "stdout",
     "output_type": "stream",
     "text": [
      "From  2004-07-01 00:00:00 to  2017-06-30 00:00:00\n"
     ]
    }
   ],
   "source": [
    "# The data that we have ranges  ...\n",
    "print('From ', min(SGD.index), 'to ', max(SGD.index))"
   ]
  },
  {
   "cell_type": "code",
   "execution_count": 32,
   "metadata": {
    "collapsed": true
   },
   "outputs": [],
   "source": [
    "# Say we wanted to aggregate it by years\n",
    "# One way of doing so is to create a column tagging them by years only\n",
    "\n",
    "SGD['Year'] = SGD.index.strftime('%Y')"
   ]
  },
  {
   "cell_type": "markdown",
   "metadata": {},
   "source": [
    "strftime means 'string format'. You can use it to format dates into a specific format. It's also useful, in this case for extracting a specific value from the date object. In this case '%Y' means the 4 digit year. You could also use '%y' for the two digit year, '%m' for the two digit month, '%d' for the 2 digit day and so on"
   ]
  },
  {
   "cell_type": "code",
   "execution_count": 33,
   "metadata": {},
   "outputs": [
    {
     "data": {
      "text/html": [
       "<div>\n",
       "<style>\n",
       "    .dataframe thead tr:only-child th {\n",
       "        text-align: right;\n",
       "    }\n",
       "\n",
       "    .dataframe thead th {\n",
       "        text-align: left;\n",
       "    }\n",
       "\n",
       "    .dataframe tbody tr th {\n",
       "        vertical-align: top;\n",
       "    }\n",
       "</style>\n",
       "<table border=\"1\" class=\"dataframe\">\n",
       "  <thead>\n",
       "    <tr style=\"text-align: right;\">\n",
       "      <th></th>\n",
       "      <th>Open</th>\n",
       "      <th>High</th>\n",
       "      <th>Low</th>\n",
       "      <th>Last</th>\n",
       "      <th>Ask High</th>\n",
       "      <th>Bid Low</th>\n",
       "      <th>Year</th>\n",
       "    </tr>\n",
       "    <tr>\n",
       "      <th>Date</th>\n",
       "      <th></th>\n",
       "      <th></th>\n",
       "      <th></th>\n",
       "      <th></th>\n",
       "      <th></th>\n",
       "      <th></th>\n",
       "      <th></th>\n",
       "    </tr>\n",
       "  </thead>\n",
       "  <tbody>\n",
       "    <tr>\n",
       "      <th>2004-07-01</th>\n",
       "      <td>1.7176</td>\n",
       "      <td>1.7188</td>\n",
       "      <td>1.7133</td>\n",
       "      <td>1.7148</td>\n",
       "      <td>NaN</td>\n",
       "      <td>1.7133</td>\n",
       "      <td>2004</td>\n",
       "    </tr>\n",
       "    <tr>\n",
       "      <th>2004-07-02</th>\n",
       "      <td>1.7146</td>\n",
       "      <td>1.7185</td>\n",
       "      <td>1.7108</td>\n",
       "      <td>1.7113</td>\n",
       "      <td>NaN</td>\n",
       "      <td>1.7108</td>\n",
       "      <td>2004</td>\n",
       "    </tr>\n",
       "    <tr>\n",
       "      <th>2004-07-05</th>\n",
       "      <td>1.7114</td>\n",
       "      <td>1.7185</td>\n",
       "      <td>1.7108</td>\n",
       "      <td>1.7155</td>\n",
       "      <td>NaN</td>\n",
       "      <td>1.7108</td>\n",
       "      <td>2004</td>\n",
       "    </tr>\n",
       "  </tbody>\n",
       "</table>\n",
       "</div>"
      ],
      "text/plain": [
       "             Open    High     Low    Last   Ask High  Bid Low  Year\n",
       "Date                                                               \n",
       "2004-07-01  1.7176  1.7188  1.7133  1.7148       NaN   1.7133  2004\n",
       "2004-07-02  1.7146  1.7185  1.7108  1.7113       NaN   1.7108  2004\n",
       "2004-07-05  1.7114  1.7185  1.7108  1.7155       NaN   1.7108  2004"
      ]
     },
     "execution_count": 33,
     "metadata": {},
     "output_type": "execute_result"
    }
   ],
   "source": [
    "SGD.head(3)"
   ]
  },
  {
   "cell_type": "code",
   "execution_count": 34,
   "metadata": {
    "collapsed": true
   },
   "outputs": [],
   "source": [
    "# Now we can use the groupby function to get the annual means\n",
    "\n",
    "AnnualSGD = SGD.copy()"
   ]
  },
  {
   "cell_type": "code",
   "execution_count": 35,
   "metadata": {
    "collapsed": true
   },
   "outputs": [],
   "source": [
    "AnnualSGD = AnnualSGD.groupby('Year').mean()"
   ]
  },
  {
   "cell_type": "code",
   "execution_count": 36,
   "metadata": {},
   "outputs": [
    {
     "data": {
      "text/html": [
       "<div>\n",
       "<style>\n",
       "    .dataframe thead tr:only-child th {\n",
       "        text-align: right;\n",
       "    }\n",
       "\n",
       "    .dataframe thead th {\n",
       "        text-align: left;\n",
       "    }\n",
       "\n",
       "    .dataframe tbody tr th {\n",
       "        vertical-align: top;\n",
       "    }\n",
       "</style>\n",
       "<table border=\"1\" class=\"dataframe\">\n",
       "  <thead>\n",
       "    <tr style=\"text-align: right;\">\n",
       "      <th></th>\n",
       "      <th>Open</th>\n",
       "      <th>High</th>\n",
       "      <th>Low</th>\n",
       "      <th>Last</th>\n",
       "      <th>Ask High</th>\n",
       "      <th>Bid Low</th>\n",
       "    </tr>\n",
       "    <tr>\n",
       "      <th>Year</th>\n",
       "      <th></th>\n",
       "      <th></th>\n",
       "      <th></th>\n",
       "      <th></th>\n",
       "      <th></th>\n",
       "      <th></th>\n",
       "    </tr>\n",
       "  </thead>\n",
       "  <tbody>\n",
       "    <tr>\n",
       "      <th>2004</th>\n",
       "      <td>1.681427</td>\n",
       "      <td>1.684875</td>\n",
       "      <td>1.677962</td>\n",
       "      <td>1.680928</td>\n",
       "      <td>NaN</td>\n",
       "      <td>1.677962</td>\n",
       "    </tr>\n",
       "    <tr>\n",
       "      <th>2005</th>\n",
       "      <td>1.663944</td>\n",
       "      <td>1.667877</td>\n",
       "      <td>1.660310</td>\n",
       "      <td>1.664009</td>\n",
       "      <td>NaN</td>\n",
       "      <td>1.660310</td>\n",
       "    </tr>\n",
       "    <tr>\n",
       "      <th>2006</th>\n",
       "      <td>1.588692</td>\n",
       "      <td>1.592094</td>\n",
       "      <td>1.584906</td>\n",
       "      <td>1.588220</td>\n",
       "      <td>NaN</td>\n",
       "      <td>1.584906</td>\n",
       "    </tr>\n",
       "  </tbody>\n",
       "</table>\n",
       "</div>"
      ],
      "text/plain": [
       "         Open      High       Low      Last   Ask High   Bid Low\n",
       "Year                                                            \n",
       "2004  1.681427  1.684875  1.677962  1.680928       NaN  1.677962\n",
       "2005  1.663944  1.667877  1.660310  1.664009       NaN  1.660310\n",
       "2006  1.588692  1.592094  1.584906  1.588220       NaN  1.584906"
      ]
     },
     "execution_count": 36,
     "metadata": {},
     "output_type": "execute_result"
    }
   ],
   "source": [
    "AnnualSGD.head(3)"
   ]
  },
  {
   "cell_type": "markdown",
   "metadata": {},
   "source": [
    "To get the returns, think of the Pandas dataframe as a series of data that you can shift up and down for easy matrix and vector like operations."
   ]
  },
  {
   "cell_type": "markdown",
   "metadata": {},
   "source": [
    "Returns (in % terms) can be computed by taking -\n",
    "> price(today) - price (x days ago)/price(x days ago)"
   ]
  },
  {
   "cell_type": "markdown",
   "metadata": {},
   "source": [
    "In coding terms, this means that we can compute the 1 day (i.e. x = 1) day returns by taking a series from the Pandas dataframe as it is (at time t) and shifting it by 1 day."
   ]
  },
  {
   "cell_type": "markdown",
   "metadata": {},
   "source": [
    "If you just type 'Last', a key error will be returned. You might be scratching you head, wondering why. It's simply because there are two spaces here, before and after the word. I could have stripped out the spaces, but as this is an issue that one encounters quite often, useful to leave this here so you know how to troublesheet if you encounter this in other datasets. "
   ]
  },
  {
   "cell_type": "code",
   "execution_count": 37,
   "metadata": {},
   "outputs": [
    {
     "data": {
      "text/plain": [
       "Date\n",
       "2004-07-01    1.7148\n",
       "2004-07-02    1.7113\n",
       "2004-07-05    1.7155\n",
       "Name:  Last , dtype: float64"
      ]
     },
     "execution_count": 37,
     "metadata": {},
     "output_type": "execute_result"
    }
   ],
   "source": [
    "# First, let's look at the shift function\n",
    "SGD[' Last '].head(3)"
   ]
  },
  {
   "cell_type": "code",
   "execution_count": 38,
   "metadata": {},
   "outputs": [
    {
     "data": {
      "text/plain": [
       "Date\n",
       "2004-07-01       NaN\n",
       "2004-07-02    1.7148\n",
       "2004-07-05    1.7113\n",
       "2004-07-06    1.7155\n",
       "2004-07-07    1.7157\n",
       "Name:  Last , dtype: float64"
      ]
     },
     "execution_count": 38,
     "metadata": {},
     "output_type": "execute_result"
    }
   ],
   "source": [
    "# Shifted by 1 day. The price yesterday get's shifted to today.\n",
    "SGD[' Last '].shift(1).head(5)"
   ]
  },
  {
   "cell_type": "code",
   "execution_count": 39,
   "metadata": {},
   "outputs": [
    {
     "data": {
      "text/html": [
       "<div>\n",
       "<style>\n",
       "    .dataframe thead tr:only-child th {\n",
       "        text-align: right;\n",
       "    }\n",
       "\n",
       "    .dataframe thead th {\n",
       "        text-align: left;\n",
       "    }\n",
       "\n",
       "    .dataframe tbody tr th {\n",
       "        vertical-align: top;\n",
       "    }\n",
       "</style>\n",
       "<table border=\"1\" class=\"dataframe\">\n",
       "  <thead>\n",
       "    <tr style=\"text-align: right;\">\n",
       "      <th></th>\n",
       "      <th>Open</th>\n",
       "      <th>High</th>\n",
       "      <th>Low</th>\n",
       "      <th>Last</th>\n",
       "      <th>Ask High</th>\n",
       "      <th>Bid Low</th>\n",
       "      <th>Year</th>\n",
       "      <th>Returns</th>\n",
       "    </tr>\n",
       "    <tr>\n",
       "      <th>Date</th>\n",
       "      <th></th>\n",
       "      <th></th>\n",
       "      <th></th>\n",
       "      <th></th>\n",
       "      <th></th>\n",
       "      <th></th>\n",
       "      <th></th>\n",
       "      <th></th>\n",
       "    </tr>\n",
       "  </thead>\n",
       "  <tbody>\n",
       "    <tr>\n",
       "      <th>2004-07-01</th>\n",
       "      <td>1.7176</td>\n",
       "      <td>1.7188</td>\n",
       "      <td>1.7133</td>\n",
       "      <td>1.7148</td>\n",
       "      <td>NaN</td>\n",
       "      <td>1.7133</td>\n",
       "      <td>2004</td>\n",
       "      <td>NaN</td>\n",
       "    </tr>\n",
       "    <tr>\n",
       "      <th>2004-07-02</th>\n",
       "      <td>1.7146</td>\n",
       "      <td>1.7185</td>\n",
       "      <td>1.7108</td>\n",
       "      <td>1.7113</td>\n",
       "      <td>NaN</td>\n",
       "      <td>1.7108</td>\n",
       "      <td>2004</td>\n",
       "      <td>-0.002041</td>\n",
       "    </tr>\n",
       "    <tr>\n",
       "      <th>2004-07-05</th>\n",
       "      <td>1.7114</td>\n",
       "      <td>1.7185</td>\n",
       "      <td>1.7108</td>\n",
       "      <td>1.7155</td>\n",
       "      <td>NaN</td>\n",
       "      <td>1.7108</td>\n",
       "      <td>2004</td>\n",
       "      <td>0.002454</td>\n",
       "    </tr>\n",
       "  </tbody>\n",
       "</table>\n",
       "</div>"
      ],
      "text/plain": [
       "             Open    High     Low    Last   Ask High  Bid Low  Year   Returns\n",
       "Date                                                                         \n",
       "2004-07-01  1.7176  1.7188  1.7133  1.7148       NaN   1.7133  2004       NaN\n",
       "2004-07-02  1.7146  1.7185  1.7108  1.7113       NaN   1.7108  2004 -0.002041\n",
       "2004-07-05  1.7114  1.7185  1.7108  1.7155       NaN   1.7108  2004  0.002454"
      ]
     },
     "execution_count": 39,
     "metadata": {},
     "output_type": "execute_result"
    }
   ],
   "source": [
    "# With this, computing 1 days returns is trivial, and very very fast!\n",
    "SGD['Returns'] = (SGD[' Last ']-SGD[' Last '].shift(1))/SGD[' Last '].shift(1)\n",
    "SGD.head(3)"
   ]
  },
  {
   "cell_type": "code",
   "execution_count": 40,
   "metadata": {},
   "outputs": [
    {
     "data": {
      "text/plain": [
       "0.0024542745281364935"
      ]
     },
     "execution_count": 40,
     "metadata": {},
     "output_type": "execute_result"
    }
   ],
   "source": [
    "# To doublecheck, let's manually compute a single datapoint - \n",
    "# the 1 day returns for 23 and 24 Aug 2016 (using the table above)\n",
    "\n",
    "(1.7155 - 1.7113)/1.7113"
   ]
  },
  {
   "cell_type": "code",
   "execution_count": 41,
   "metadata": {},
   "outputs": [
    {
     "data": {
      "text/plain": [
       "array([ 1.7148,  1.7113,  1.7155,  1.7157,  1.7075,  1.707 ,  1.7016,\n",
       "        1.6956,  1.7003,  1.7023])"
      ]
     },
     "execution_count": 41,
     "metadata": {},
     "output_type": "execute_result"
    }
   ],
   "source": [
    "# You could also do it without the use of the shift function by\n",
    "# playing around with the indices\n",
    "# Let's save the Pandas series into an array\n",
    "\n",
    "close = np.array(SGD[' Last '])\n",
    "close[:10]"
   ]
  },
  {
   "cell_type": "code",
   "execution_count": 42,
   "metadata": {},
   "outputs": [
    {
     "data": {
      "text/plain": [
       "array([-0.00204105,  0.00245427,  0.00011658, -0.00477939, -0.00029283,\n",
       "       -0.00316344, -0.00352609,  0.00277188,  0.00117626,  0.00281971])"
      ]
     },
     "execution_count": 42,
     "metadata": {},
     "output_type": "execute_result"
    }
   ],
   "source": [
    "# The trick now is to have one array that starts one day ahead [1:], \n",
    "# and one array that stops one day before the end [:-1]\n",
    "\n",
    "returns = (close[1:] - close[:-1])/close[:-1]\n",
    "returns[:10]"
   ]
  },
  {
   "cell_type": "markdown",
   "metadata": {},
   "source": [
    "Another commonly used metric is log returns. This is simply -\n",
    "> $ Log Return = \\frac{p_i}{p_i-1} $"
   ]
  },
  {
   "cell_type": "code",
   "execution_count": 43,
   "metadata": {
    "collapsed": true
   },
   "outputs": [],
   "source": [
    "# In python, this would be \n",
    "\n",
    "SGD['LogReturns'] = np.log(SGD[' Last ']/SGD[' Last '].shift(1))"
   ]
  },
  {
   "cell_type": "code",
   "execution_count": 44,
   "metadata": {},
   "outputs": [
    {
     "data": {
      "text/html": [
       "<div>\n",
       "<style>\n",
       "    .dataframe thead tr:only-child th {\n",
       "        text-align: right;\n",
       "    }\n",
       "\n",
       "    .dataframe thead th {\n",
       "        text-align: left;\n",
       "    }\n",
       "\n",
       "    .dataframe tbody tr th {\n",
       "        vertical-align: top;\n",
       "    }\n",
       "</style>\n",
       "<table border=\"1\" class=\"dataframe\">\n",
       "  <thead>\n",
       "    <tr style=\"text-align: right;\">\n",
       "      <th></th>\n",
       "      <th>Open</th>\n",
       "      <th>High</th>\n",
       "      <th>Low</th>\n",
       "      <th>Last</th>\n",
       "      <th>Ask High</th>\n",
       "      <th>Bid Low</th>\n",
       "      <th>Year</th>\n",
       "      <th>Returns</th>\n",
       "      <th>LogReturns</th>\n",
       "    </tr>\n",
       "    <tr>\n",
       "      <th>Date</th>\n",
       "      <th></th>\n",
       "      <th></th>\n",
       "      <th></th>\n",
       "      <th></th>\n",
       "      <th></th>\n",
       "      <th></th>\n",
       "      <th></th>\n",
       "      <th></th>\n",
       "      <th></th>\n",
       "    </tr>\n",
       "  </thead>\n",
       "  <tbody>\n",
       "    <tr>\n",
       "      <th>2004-07-01</th>\n",
       "      <td>1.7176</td>\n",
       "      <td>1.7188</td>\n",
       "      <td>1.7133</td>\n",
       "      <td>1.7148</td>\n",
       "      <td>NaN</td>\n",
       "      <td>1.7133</td>\n",
       "      <td>2004</td>\n",
       "      <td>NaN</td>\n",
       "      <td>NaN</td>\n",
       "    </tr>\n",
       "    <tr>\n",
       "      <th>2004-07-02</th>\n",
       "      <td>1.7146</td>\n",
       "      <td>1.7185</td>\n",
       "      <td>1.7108</td>\n",
       "      <td>1.7113</td>\n",
       "      <td>NaN</td>\n",
       "      <td>1.7108</td>\n",
       "      <td>2004</td>\n",
       "      <td>-0.002041</td>\n",
       "      <td>-0.002043</td>\n",
       "    </tr>\n",
       "    <tr>\n",
       "      <th>2004-07-05</th>\n",
       "      <td>1.7114</td>\n",
       "      <td>1.7185</td>\n",
       "      <td>1.7108</td>\n",
       "      <td>1.7155</td>\n",
       "      <td>NaN</td>\n",
       "      <td>1.7108</td>\n",
       "      <td>2004</td>\n",
       "      <td>0.002454</td>\n",
       "      <td>0.002451</td>\n",
       "    </tr>\n",
       "  </tbody>\n",
       "</table>\n",
       "</div>"
      ],
      "text/plain": [
       "             Open    High     Low    Last   Ask High  Bid Low  Year   Returns  \\\n",
       "Date                                                                            \n",
       "2004-07-01  1.7176  1.7188  1.7133  1.7148       NaN   1.7133  2004       NaN   \n",
       "2004-07-02  1.7146  1.7185  1.7108  1.7113       NaN   1.7108  2004 -0.002041   \n",
       "2004-07-05  1.7114  1.7185  1.7108  1.7155       NaN   1.7108  2004  0.002454   \n",
       "\n",
       "            LogReturns  \n",
       "Date                    \n",
       "2004-07-01         NaN  \n",
       "2004-07-02   -0.002043  \n",
       "2004-07-05    0.002451  "
      ]
     },
     "execution_count": 44,
     "metadata": {},
     "output_type": "execute_result"
    }
   ],
   "source": [
    "SGD.head(3)"
   ]
  },
  {
   "cell_type": "markdown",
   "metadata": {},
   "source": [
    "Log Returns has a very useful property, which is that that returns over a shorter period can be summed together to get the returns over a longer period. For example, say we want the 5 day log returns. We can get that from the daily returns by summing them together."
   ]
  },
  {
   "cell_type": "code",
   "execution_count": 45,
   "metadata": {
    "collapsed": true
   },
   "outputs": [],
   "source": [
    "SGD['5DayLogReturns'] = np.log(SGD[' Last ']/SGD[' Last '].shift(5))"
   ]
  },
  {
   "cell_type": "code",
   "execution_count": 46,
   "metadata": {},
   "outputs": [
    {
     "data": {
      "text/html": [
       "<div>\n",
       "<style>\n",
       "    .dataframe thead tr:only-child th {\n",
       "        text-align: right;\n",
       "    }\n",
       "\n",
       "    .dataframe thead th {\n",
       "        text-align: left;\n",
       "    }\n",
       "\n",
       "    .dataframe tbody tr th {\n",
       "        vertical-align: top;\n",
       "    }\n",
       "</style>\n",
       "<table border=\"1\" class=\"dataframe\">\n",
       "  <thead>\n",
       "    <tr style=\"text-align: right;\">\n",
       "      <th></th>\n",
       "      <th>Open</th>\n",
       "      <th>High</th>\n",
       "      <th>Low</th>\n",
       "      <th>Last</th>\n",
       "      <th>Ask High</th>\n",
       "      <th>Bid Low</th>\n",
       "      <th>Year</th>\n",
       "      <th>Returns</th>\n",
       "      <th>LogReturns</th>\n",
       "      <th>5DayLogReturns</th>\n",
       "    </tr>\n",
       "    <tr>\n",
       "      <th>Date</th>\n",
       "      <th></th>\n",
       "      <th></th>\n",
       "      <th></th>\n",
       "      <th></th>\n",
       "      <th></th>\n",
       "      <th></th>\n",
       "      <th></th>\n",
       "      <th></th>\n",
       "      <th></th>\n",
       "      <th></th>\n",
       "    </tr>\n",
       "  </thead>\n",
       "  <tbody>\n",
       "    <tr>\n",
       "      <th>2004-07-01</th>\n",
       "      <td>1.7176</td>\n",
       "      <td>1.7188</td>\n",
       "      <td>1.7133</td>\n",
       "      <td>1.7148</td>\n",
       "      <td>NaN</td>\n",
       "      <td>1.7133</td>\n",
       "      <td>2004</td>\n",
       "      <td>NaN</td>\n",
       "      <td>NaN</td>\n",
       "      <td>NaN</td>\n",
       "    </tr>\n",
       "    <tr>\n",
       "      <th>2004-07-02</th>\n",
       "      <td>1.7146</td>\n",
       "      <td>1.7185</td>\n",
       "      <td>1.7108</td>\n",
       "      <td>1.7113</td>\n",
       "      <td>NaN</td>\n",
       "      <td>1.7108</td>\n",
       "      <td>2004</td>\n",
       "      <td>-0.002041</td>\n",
       "      <td>-0.002043</td>\n",
       "      <td>NaN</td>\n",
       "    </tr>\n",
       "    <tr>\n",
       "      <th>2004-07-05</th>\n",
       "      <td>1.7114</td>\n",
       "      <td>1.7185</td>\n",
       "      <td>1.7108</td>\n",
       "      <td>1.7155</td>\n",
       "      <td>NaN</td>\n",
       "      <td>1.7108</td>\n",
       "      <td>2004</td>\n",
       "      <td>0.002454</td>\n",
       "      <td>0.002451</td>\n",
       "      <td>NaN</td>\n",
       "    </tr>\n",
       "    <tr>\n",
       "      <th>2004-07-06</th>\n",
       "      <td>1.7166</td>\n",
       "      <td>1.7195</td>\n",
       "      <td>1.7125</td>\n",
       "      <td>1.7157</td>\n",
       "      <td>NaN</td>\n",
       "      <td>1.7125</td>\n",
       "      <td>2004</td>\n",
       "      <td>0.000117</td>\n",
       "      <td>0.000117</td>\n",
       "      <td>NaN</td>\n",
       "    </tr>\n",
       "    <tr>\n",
       "      <th>2004-07-07</th>\n",
       "      <td>1.7155</td>\n",
       "      <td>1.7162</td>\n",
       "      <td>1.7055</td>\n",
       "      <td>1.7075</td>\n",
       "      <td>NaN</td>\n",
       "      <td>1.7055</td>\n",
       "      <td>2004</td>\n",
       "      <td>-0.004779</td>\n",
       "      <td>-0.004791</td>\n",
       "      <td>NaN</td>\n",
       "    </tr>\n",
       "    <tr>\n",
       "      <th>2004-07-08</th>\n",
       "      <td>1.7068</td>\n",
       "      <td>1.7085</td>\n",
       "      <td>1.7048</td>\n",
       "      <td>1.7070</td>\n",
       "      <td>NaN</td>\n",
       "      <td>1.7048</td>\n",
       "      <td>2004</td>\n",
       "      <td>-0.000293</td>\n",
       "      <td>-0.000293</td>\n",
       "      <td>-0.004559</td>\n",
       "    </tr>\n",
       "  </tbody>\n",
       "</table>\n",
       "</div>"
      ],
      "text/plain": [
       "             Open    High     Low    Last   Ask High  Bid Low  Year   Returns  \\\n",
       "Date                                                                            \n",
       "2004-07-01  1.7176  1.7188  1.7133  1.7148       NaN   1.7133  2004       NaN   \n",
       "2004-07-02  1.7146  1.7185  1.7108  1.7113       NaN   1.7108  2004 -0.002041   \n",
       "2004-07-05  1.7114  1.7185  1.7108  1.7155       NaN   1.7108  2004  0.002454   \n",
       "2004-07-06  1.7166  1.7195  1.7125  1.7157       NaN   1.7125  2004  0.000117   \n",
       "2004-07-07  1.7155  1.7162  1.7055  1.7075       NaN   1.7055  2004 -0.004779   \n",
       "2004-07-08  1.7068  1.7085  1.7048  1.7070       NaN   1.7048  2004 -0.000293   \n",
       "\n",
       "            LogReturns  5DayLogReturns  \n",
       "Date                                    \n",
       "2004-07-01         NaN             NaN  \n",
       "2004-07-02   -0.002043             NaN  \n",
       "2004-07-05    0.002451             NaN  \n",
       "2004-07-06    0.000117             NaN  \n",
       "2004-07-07   -0.004791             NaN  \n",
       "2004-07-08   -0.000293       -0.004559  "
      ]
     },
     "execution_count": 46,
     "metadata": {},
     "output_type": "execute_result"
    }
   ],
   "source": [
    "SGD.head(6)"
   ]
  },
  {
   "cell_type": "markdown",
   "metadata": {},
   "source": [
    "Sum the preceding 5 days worth of log returns and we will get the 5 day log returns we computed directly."
   ]
  },
  {
   "cell_type": "code",
   "execution_count": 47,
   "metadata": {},
   "outputs": [
    {
     "data": {
      "text/plain": [
       "-0.004559011929381697"
      ]
     },
     "execution_count": 47,
     "metadata": {},
     "output_type": "execute_result"
    }
   ],
   "source": [
    "SGD[:6]['LogReturns'].sum()"
   ]
  },
  {
   "cell_type": "markdown",
   "metadata": {},
   "source": [
    "** Merging time series by dates **"
   ]
  },
  {
   "cell_type": "code",
   "execution_count": 48,
   "metadata": {
    "collapsed": true
   },
   "outputs": [],
   "source": [
    "CNH = pd.read_csv('CNH.csv')"
   ]
  },
  {
   "cell_type": "code",
   "execution_count": 49,
   "metadata": {},
   "outputs": [
    {
     "data": {
      "text/html": [
       "<div>\n",
       "<style>\n",
       "    .dataframe thead tr:only-child th {\n",
       "        text-align: right;\n",
       "    }\n",
       "\n",
       "    .dataframe thead th {\n",
       "        text-align: left;\n",
       "    }\n",
       "\n",
       "    .dataframe tbody tr th {\n",
       "        vertical-align: top;\n",
       "    }\n",
       "</style>\n",
       "<table border=\"1\" class=\"dataframe\">\n",
       "  <thead>\n",
       "    <tr style=\"text-align: right;\">\n",
       "      <th></th>\n",
       "      <th>Date (GMT)</th>\n",
       "      <th>Open</th>\n",
       "      <th>High</th>\n",
       "      <th>Low</th>\n",
       "      <th>Last</th>\n",
       "      <th>Ask High</th>\n",
       "      <th>Bid Low</th>\n",
       "    </tr>\n",
       "  </thead>\n",
       "  <tbody>\n",
       "    <tr>\n",
       "      <th>0</th>\n",
       "      <td>01-10-10</td>\n",
       "      <td>6.618</td>\n",
       "      <td>6.6800</td>\n",
       "      <td>6.605</td>\n",
       "      <td>6.6050</td>\n",
       "      <td>6.7</td>\n",
       "      <td>6.605</td>\n",
       "    </tr>\n",
       "    <tr>\n",
       "      <th>1</th>\n",
       "      <td>04-10-10</td>\n",
       "      <td>6.605</td>\n",
       "      <td>6.6908</td>\n",
       "      <td>6.603</td>\n",
       "      <td>6.6115</td>\n",
       "      <td>6.7</td>\n",
       "      <td>6.603</td>\n",
       "    </tr>\n",
       "    <tr>\n",
       "      <th>2</th>\n",
       "      <td>05-10-10</td>\n",
       "      <td>6.610</td>\n",
       "      <td>6.6906</td>\n",
       "      <td>6.607</td>\n",
       "      <td>6.6906</td>\n",
       "      <td>6.7</td>\n",
       "      <td>6.607</td>\n",
       "    </tr>\n",
       "  </tbody>\n",
       "</table>\n",
       "</div>"
      ],
      "text/plain": [
       "  Date (GMT)   Open    High    Low    Last    Ask High     Bid Low  \n",
       "0   01-10-10   6.618  6.6800  6.605  6.6050          6.7       6.605\n",
       "1   04-10-10   6.605  6.6908  6.603  6.6115          6.7       6.603\n",
       "2   05-10-10   6.610  6.6906  6.607  6.6906          6.7       6.607"
      ]
     },
     "execution_count": 49,
     "metadata": {},
     "output_type": "execute_result"
    }
   ],
   "source": [
    "CNH.head(3)"
   ]
  },
  {
   "cell_type": "code",
   "execution_count": 50,
   "metadata": {
    "collapsed": true
   },
   "outputs": [],
   "source": [
    "CNH['Date'] = pd.to_datetime(CNH['Date (GMT)'], format='%d-%m-%y')\n",
    "CNH = CNH.drop(['Date (GMT)'], axis=1)\n",
    "CNH = CNH.set_index('Date')"
   ]
  },
  {
   "cell_type": "code",
   "execution_count": 51,
   "metadata": {},
   "outputs": [
    {
     "data": {
      "text/html": [
       "<div>\n",
       "<style>\n",
       "    .dataframe thead tr:only-child th {\n",
       "        text-align: right;\n",
       "    }\n",
       "\n",
       "    .dataframe thead th {\n",
       "        text-align: left;\n",
       "    }\n",
       "\n",
       "    .dataframe tbody tr th {\n",
       "        vertical-align: top;\n",
       "    }\n",
       "</style>\n",
       "<table border=\"1\" class=\"dataframe\">\n",
       "  <thead>\n",
       "    <tr style=\"text-align: right;\">\n",
       "      <th></th>\n",
       "      <th>Open</th>\n",
       "      <th>High</th>\n",
       "      <th>Low</th>\n",
       "      <th>Last</th>\n",
       "      <th>Ask High</th>\n",
       "      <th>Bid Low</th>\n",
       "    </tr>\n",
       "    <tr>\n",
       "      <th>Date</th>\n",
       "      <th></th>\n",
       "      <th></th>\n",
       "      <th></th>\n",
       "      <th></th>\n",
       "      <th></th>\n",
       "      <th></th>\n",
       "    </tr>\n",
       "  </thead>\n",
       "  <tbody>\n",
       "    <tr>\n",
       "      <th>2010-10-01</th>\n",
       "      <td>6.618</td>\n",
       "      <td>6.6800</td>\n",
       "      <td>6.605</td>\n",
       "      <td>6.6050</td>\n",
       "      <td>6.7</td>\n",
       "      <td>6.605</td>\n",
       "    </tr>\n",
       "    <tr>\n",
       "      <th>2010-10-04</th>\n",
       "      <td>6.605</td>\n",
       "      <td>6.6908</td>\n",
       "      <td>6.603</td>\n",
       "      <td>6.6115</td>\n",
       "      <td>6.7</td>\n",
       "      <td>6.603</td>\n",
       "    </tr>\n",
       "    <tr>\n",
       "      <th>2010-10-05</th>\n",
       "      <td>6.610</td>\n",
       "      <td>6.6906</td>\n",
       "      <td>6.607</td>\n",
       "      <td>6.6906</td>\n",
       "      <td>6.7</td>\n",
       "      <td>6.607</td>\n",
       "    </tr>\n",
       "  </tbody>\n",
       "</table>\n",
       "</div>"
      ],
      "text/plain": [
       "             Open    High    Low    Last    Ask High     Bid Low  \n",
       "Date                                                              \n",
       "2010-10-01   6.618  6.6800  6.605  6.6050          6.7       6.605\n",
       "2010-10-04   6.605  6.6908  6.603  6.6115          6.7       6.603\n",
       "2010-10-05   6.610  6.6906  6.607  6.6906          6.7       6.607"
      ]
     },
     "execution_count": 51,
     "metadata": {},
     "output_type": "execute_result"
    }
   ],
   "source": [
    "CNH.head(3)"
   ]
  },
  {
   "cell_type": "code",
   "execution_count": 52,
   "metadata": {},
   "outputs": [
    {
     "name": "stdout",
     "output_type": "stream",
     "text": [
      "From  2004-07-01 00:00:00 to  2017-06-30 00:00:00\n"
     ]
    }
   ],
   "source": [
    "# Recall SGD date range\n",
    "# The data that we have ranges  ...\n",
    "print('From ', min(SGD.index), 'to ', max(SGD.index))"
   ]
  },
  {
   "cell_type": "code",
   "execution_count": 53,
   "metadata": {},
   "outputs": [
    {
     "name": "stdout",
     "output_type": "stream",
     "text": [
      "From  2010-10-01 00:00:00 to  2017-06-30 00:00:00\n"
     ]
    }
   ],
   "source": [
    "# Now let's see CNH's date range\n",
    "# The data that we have is lot more narrow  ...\n",
    "print('From ', min(CNH.index), 'to ', max(CNH.index))"
   ]
  },
  {
   "cell_type": "markdown",
   "metadata": {},
   "source": [
    "Very often, we will want to merge two datasets by their dates."
   ]
  },
  {
   "cell_type": "code",
   "execution_count": 54,
   "metadata": {
    "collapsed": true
   },
   "outputs": [],
   "source": [
    "t_series = pd.merge(SGD, CNH, left_index=True, right_index=True)"
   ]
  },
  {
   "cell_type": "code",
   "execution_count": 55,
   "metadata": {},
   "outputs": [
    {
     "data": {
      "text/html": [
       "<div>\n",
       "<style>\n",
       "    .dataframe thead tr:only-child th {\n",
       "        text-align: right;\n",
       "    }\n",
       "\n",
       "    .dataframe thead th {\n",
       "        text-align: left;\n",
       "    }\n",
       "\n",
       "    .dataframe tbody tr th {\n",
       "        vertical-align: top;\n",
       "    }\n",
       "</style>\n",
       "<table border=\"1\" class=\"dataframe\">\n",
       "  <thead>\n",
       "    <tr style=\"text-align: right;\">\n",
       "      <th></th>\n",
       "      <th>Open _x</th>\n",
       "      <th>High _x</th>\n",
       "      <th>Low _x</th>\n",
       "      <th>Last _x</th>\n",
       "      <th>Ask High</th>\n",
       "      <th>Bid Low</th>\n",
       "      <th>Year</th>\n",
       "      <th>Returns</th>\n",
       "      <th>LogReturns</th>\n",
       "      <th>5DayLogReturns</th>\n",
       "      <th>Open _y</th>\n",
       "      <th>High _y</th>\n",
       "      <th>Low _y</th>\n",
       "      <th>Last _y</th>\n",
       "      <th>Ask High</th>\n",
       "      <th>Bid Low</th>\n",
       "    </tr>\n",
       "    <tr>\n",
       "      <th>Date</th>\n",
       "      <th></th>\n",
       "      <th></th>\n",
       "      <th></th>\n",
       "      <th></th>\n",
       "      <th></th>\n",
       "      <th></th>\n",
       "      <th></th>\n",
       "      <th></th>\n",
       "      <th></th>\n",
       "      <th></th>\n",
       "      <th></th>\n",
       "      <th></th>\n",
       "      <th></th>\n",
       "      <th></th>\n",
       "      <th></th>\n",
       "      <th></th>\n",
       "    </tr>\n",
       "  </thead>\n",
       "  <tbody>\n",
       "    <tr>\n",
       "      <th>2010-10-01</th>\n",
       "      <td>1.3145</td>\n",
       "      <td>1.3175</td>\n",
       "      <td>1.3108</td>\n",
       "      <td>1.3125</td>\n",
       "      <td>1.3183</td>\n",
       "      <td>1.3108</td>\n",
       "      <td>2010</td>\n",
       "      <td>-0.001370</td>\n",
       "      <td>-0.001370</td>\n",
       "      <td>-0.006758</td>\n",
       "      <td>6.618</td>\n",
       "      <td>6.6800</td>\n",
       "      <td>6.605</td>\n",
       "      <td>6.6050</td>\n",
       "      <td>6.700</td>\n",
       "      <td>6.605</td>\n",
       "    </tr>\n",
       "    <tr>\n",
       "      <th>2010-10-04</th>\n",
       "      <td>1.3117</td>\n",
       "      <td>1.3156</td>\n",
       "      <td>1.3104</td>\n",
       "      <td>1.3140</td>\n",
       "      <td>1.3167</td>\n",
       "      <td>1.3104</td>\n",
       "      <td>2010</td>\n",
       "      <td>0.001143</td>\n",
       "      <td>0.001142</td>\n",
       "      <td>-0.004556</td>\n",
       "      <td>6.605</td>\n",
       "      <td>6.6908</td>\n",
       "      <td>6.603</td>\n",
       "      <td>6.6115</td>\n",
       "      <td>6.700</td>\n",
       "      <td>6.603</td>\n",
       "    </tr>\n",
       "    <tr>\n",
       "      <th>2010-10-05</th>\n",
       "      <td>1.3145</td>\n",
       "      <td>1.3178</td>\n",
       "      <td>1.3081</td>\n",
       "      <td>1.3086</td>\n",
       "      <td>1.3188</td>\n",
       "      <td>1.3081</td>\n",
       "      <td>2010</td>\n",
       "      <td>-0.004110</td>\n",
       "      <td>-0.004118</td>\n",
       "      <td>-0.006778</td>\n",
       "      <td>6.610</td>\n",
       "      <td>6.6906</td>\n",
       "      <td>6.607</td>\n",
       "      <td>6.6906</td>\n",
       "      <td>6.700</td>\n",
       "      <td>6.607</td>\n",
       "    </tr>\n",
       "    <tr>\n",
       "      <th>2010-10-06</th>\n",
       "      <td>1.3090</td>\n",
       "      <td>1.3117</td>\n",
       "      <td>1.3064</td>\n",
       "      <td>1.3080</td>\n",
       "      <td>1.3127</td>\n",
       "      <td>1.3064</td>\n",
       "      <td>2010</td>\n",
       "      <td>-0.000459</td>\n",
       "      <td>-0.000459</td>\n",
       "      <td>-0.007464</td>\n",
       "      <td>6.595</td>\n",
       "      <td>6.6050</td>\n",
       "      <td>6.580</td>\n",
       "      <td>6.5800</td>\n",
       "      <td>6.615</td>\n",
       "      <td>6.580</td>\n",
       "    </tr>\n",
       "    <tr>\n",
       "      <th>2010-10-07</th>\n",
       "      <td>1.3076</td>\n",
       "      <td>1.3090</td>\n",
       "      <td>1.3034</td>\n",
       "      <td>1.3066</td>\n",
       "      <td>1.3101</td>\n",
       "      <td>1.3034</td>\n",
       "      <td>2010</td>\n",
       "      <td>-0.001070</td>\n",
       "      <td>-0.001071</td>\n",
       "      <td>-0.005876</td>\n",
       "      <td>6.575</td>\n",
       "      <td>6.5750</td>\n",
       "      <td>6.550</td>\n",
       "      <td>6.5630</td>\n",
       "      <td>6.595</td>\n",
       "      <td>6.550</td>\n",
       "    </tr>\n",
       "  </tbody>\n",
       "</table>\n",
       "</div>"
      ],
      "text/plain": [
       "             Open _x   High _x   Low _x   Last _x  Ask High  Bid Low  Year  \\\n",
       "Date                                                                         \n",
       "2010-10-01    1.3145    1.3175   1.3108    1.3125    1.3183   1.3108  2010   \n",
       "2010-10-04    1.3117    1.3156   1.3104    1.3140    1.3167   1.3104  2010   \n",
       "2010-10-05    1.3145    1.3178   1.3081    1.3086    1.3188   1.3081  2010   \n",
       "2010-10-06    1.3090    1.3117   1.3064    1.3080    1.3127   1.3064  2010   \n",
       "2010-10-07    1.3076    1.3090   1.3034    1.3066    1.3101   1.3034  2010   \n",
       "\n",
       "             Returns  LogReturns  5DayLogReturns   Open _y   High _y   Low _y  \\\n",
       "Date                                                                            \n",
       "2010-10-01 -0.001370   -0.001370       -0.006758     6.618    6.6800    6.605   \n",
       "2010-10-04  0.001143    0.001142       -0.004556     6.605    6.6908    6.603   \n",
       "2010-10-05 -0.004110   -0.004118       -0.006778     6.610    6.6906    6.607   \n",
       "2010-10-06 -0.000459   -0.000459       -0.007464     6.595    6.6050    6.580   \n",
       "2010-10-07 -0.001070   -0.001071       -0.005876     6.575    6.5750    6.550   \n",
       "\n",
       "             Last _y   Ask High     Bid Low    \n",
       "Date                                           \n",
       "2010-10-01    6.6050        6.700       6.605  \n",
       "2010-10-04    6.6115        6.700       6.603  \n",
       "2010-10-05    6.6906        6.700       6.607  \n",
       "2010-10-06    6.5800        6.615       6.580  \n",
       "2010-10-07    6.5630        6.595       6.550  "
      ]
     },
     "execution_count": 55,
     "metadata": {},
     "output_type": "execute_result"
    }
   ],
   "source": [
    "# Inner join is the default\n",
    "# indices are indicated as left_index and right_index = True\n",
    "t_series.head()"
   ]
  },
  {
   "cell_type": "code",
   "execution_count": 56,
   "metadata": {
    "collapsed": true
   },
   "outputs": [],
   "source": [
    "# Outer join\n",
    "t_series_outer = pd.merge(SGD, CNH, how='outer', left_index=True, right_index=True)"
   ]
  },
  {
   "cell_type": "code",
   "execution_count": 57,
   "metadata": {},
   "outputs": [
    {
     "data": {
      "text/plain": [
       "(3392, 1761)"
      ]
     },
     "execution_count": 57,
     "metadata": {},
     "output_type": "execute_result"
    }
   ],
   "source": [
    "# Note the difference in length\n",
    "len(t_series_outer), len(t_series)"
   ]
  },
  {
   "cell_type": "markdown",
   "metadata": {},
   "source": [
    "** Time Zones **"
   ]
  },
  {
   "cell_type": "markdown",
   "metadata": {},
   "source": [
    "As time series can come from a range of sources, the time zones for different datasets might be different. So far, the datetime objects we were working with are not timezone aware."
   ]
  },
  {
   "cell_type": "code",
   "execution_count": 58,
   "metadata": {
    "collapsed": true
   },
   "outputs": [],
   "source": [
    "t = SGD.index[0]"
   ]
  },
  {
   "cell_type": "code",
   "execution_count": 59,
   "metadata": {},
   "outputs": [
    {
     "data": {
      "text/plain": [
       "True"
      ]
     },
     "execution_count": 59,
     "metadata": {},
     "output_type": "execute_result"
    }
   ],
   "source": [
    "t.tz is None"
   ]
  },
  {
   "cell_type": "markdown",
   "metadata": {},
   "source": [
    "A few ways to make our timestamps timezone-aware."
   ]
  },
  {
   "cell_type": "code",
   "execution_count": 60,
   "metadata": {},
   "outputs": [
    {
     "data": {
      "text/plain": [
       "True"
      ]
     },
     "execution_count": 60,
     "metadata": {},
     "output_type": "execute_result"
    }
   ],
   "source": [
    "# Existing dataframes\n",
    "t.tz_localize('Asia/Singapore')\n",
    "t.tz is None"
   ]
  },
  {
   "cell_type": "code",
   "execution_count": 61,
   "metadata": {},
   "outputs": [
    {
     "data": {
      "text/plain": [
       "False"
      ]
     },
     "execution_count": 61,
     "metadata": {},
     "output_type": "execute_result"
    }
   ],
   "source": [
    "# New dataframes\n",
    "t = pd.Timestamp('2017-01-01, 10am', tz='Asia/Singapore')\n",
    "t.tz is None"
   ]
  },
  {
   "cell_type": "code",
   "execution_count": 62,
   "metadata": {},
   "outputs": [
    {
     "data": {
      "text/plain": [
       "DatetimeIndex(['2017-01-01 00:00:00+08:00', '2017-01-02 00:00:00+08:00',\n",
       "               '2017-01-03 00:00:00+08:00', '2017-01-04 00:00:00+08:00',\n",
       "               '2017-01-05 00:00:00+08:00', '2017-01-06 00:00:00+08:00',\n",
       "               '2017-01-07 00:00:00+08:00', '2017-01-08 00:00:00+08:00',\n",
       "               '2017-01-09 00:00:00+08:00', '2017-01-10 00:00:00+08:00'],\n",
       "              dtype='datetime64[ns, Asia/Singapore]', freq='D')"
      ]
     },
     "execution_count": 62,
     "metadata": {},
     "output_type": "execute_result"
    }
   ],
   "source": [
    "import pytz\n",
    "tz = pytz.timezone('Asia/Singapore')\n",
    "rng = pd.date_range('1/1/2017 00:00', periods=10, freq='D', tz=tz)\n",
    "rng"
   ]
  },
  {
   "cell_type": "markdown",
   "metadata": {},
   "source": [
    "It's also possible to convert between timezones."
   ]
  },
  {
   "cell_type": "code",
   "execution_count": 63,
   "metadata": {},
   "outputs": [
    {
     "data": {
      "text/plain": [
       "True"
      ]
     },
     "execution_count": 63,
     "metadata": {},
     "output_type": "execute_result"
    }
   ],
   "source": [
    "rng = pd.date_range('1/1/2017 00:00', periods=10, freq='D')\n",
    "ts = pd.Series(np.random.randn(len(rng)), rng)\n",
    "ts.index.tz is None"
   ]
  },
  {
   "cell_type": "code",
   "execution_count": 64,
   "metadata": {},
   "outputs": [
    {
     "data": {
      "text/plain": [
       "<UTC>"
      ]
     },
     "execution_count": 64,
     "metadata": {},
     "output_type": "execute_result"
    }
   ],
   "source": [
    "ts_utc = ts.tz_localize('UTC')\n",
    "ts_utc.index.tz"
   ]
  },
  {
   "cell_type": "code",
   "execution_count": 65,
   "metadata": {},
   "outputs": [
    {
     "data": {
      "text/plain": [
       "<DstTzInfo 'Asia/Singapore' LMT+6:55:00 STD>"
      ]
     },
     "execution_count": 65,
     "metadata": {},
     "output_type": "execute_result"
    }
   ],
   "source": [
    "ts_utc.tz_convert('Asia/Singapore').index.tz"
   ]
  },
  {
   "cell_type": "markdown",
   "metadata": {},
   "source": [
    "** Up and Down Sampling **"
   ]
  },
  {
   "cell_type": "markdown",
   "metadata": {},
   "source": [
    "It's common to want to look at time series data at different time horizons. When we need higher frequency data (e.g. from months to days), we upsample, and when we need lower frequency data (e.g. from months to years), we downsample."
   ]
  },
  {
   "cell_type": "markdown",
   "metadata": {},
   "source": [
    "** Down Sampling **"
   ]
  },
  {
   "cell_type": "markdown",
   "metadata": {},
   "source": [
    "Let's create a random dataset that is 600 minutes long (i.e. 10 hours), with a datapoint at each minute (i.e. frequency = T)"
   ]
  },
  {
   "cell_type": "code",
   "execution_count": 66,
   "metadata": {
    "collapsed": true
   },
   "outputs": [],
   "source": [
    "datetime_long = pd.date_range(start='2018-01-01', periods=600, freq='T')\n",
    "ts_long = pd.Series(np.random.randn(len(datetime_long)), index=datetime_long)"
   ]
  },
  {
   "cell_type": "code",
   "execution_count": 67,
   "metadata": {},
   "outputs": [
    {
     "data": {
      "text/plain": [
       "2018-01-01 00:00:00   -0.012577\n",
       "2018-01-01 00:01:00    0.016296\n",
       "2018-01-01 00:02:00    0.493567\n",
       "2018-01-01 00:03:00    1.478707\n",
       "2018-01-01 00:04:00    0.705589\n",
       "2018-01-01 00:05:00   -1.289139\n",
       "2018-01-01 00:06:00   -0.515903\n",
       "2018-01-01 00:07:00    0.727075\n",
       "2018-01-01 00:08:00    2.496662\n",
       "2018-01-01 00:09:00   -1.051974\n",
       "Freq: T, dtype: float64"
      ]
     },
     "execution_count": 67,
     "metadata": {},
     "output_type": "execute_result"
    }
   ],
   "source": [
    "ts_long.head(10)"
   ]
  },
  {
   "cell_type": "code",
   "execution_count": 68,
   "metadata": {},
   "outputs": [
    {
     "name": "stdout",
     "output_type": "stream",
     "text": [
      "# of hours: 10\n"
     ]
    }
   ],
   "source": [
    "# resample by hour\n",
    "print('# of hours:', len(ts_long.resample('60min').mean()))"
   ]
  },
  {
   "cell_type": "code",
   "execution_count": 69,
   "metadata": {},
   "outputs": [
    {
     "data": {
      "text/plain": [
       "2018-01-01 00:00:00   -0.150229\n",
       "2018-01-01 01:00:00   -0.013467\n",
       "2018-01-01 02:00:00    0.033141\n",
       "2018-01-01 03:00:00    0.085284\n",
       "2018-01-01 04:00:00    0.078558\n",
       "2018-01-01 05:00:00   -0.032913\n",
       "2018-01-01 06:00:00   -0.259231\n",
       "2018-01-01 07:00:00   -0.291667\n",
       "2018-01-01 08:00:00   -0.121116\n",
       "2018-01-01 09:00:00   -0.174889\n",
       "Freq: 60T, dtype: float64"
      ]
     },
     "execution_count": 69,
     "metadata": {},
     "output_type": "execute_result"
    }
   ],
   "source": [
    "ts_long.resample('60min').mean()"
   ]
  },
  {
   "cell_type": "markdown",
   "metadata": {},
   "source": [
    "We can resample based on sum or any other function as well."
   ]
  },
  {
   "cell_type": "code",
   "execution_count": 70,
   "metadata": {},
   "outputs": [
    {
     "data": {
      "text/plain": [
       "2018-01-01 00:00:00    -9.013736\n",
       "2018-01-01 01:00:00    -0.808015\n",
       "2018-01-01 02:00:00     1.988480\n",
       "2018-01-01 03:00:00     5.117056\n",
       "2018-01-01 04:00:00     4.713457\n",
       "2018-01-01 05:00:00    -1.974792\n",
       "2018-01-01 06:00:00   -15.553865\n",
       "2018-01-01 07:00:00   -17.500001\n",
       "2018-01-01 08:00:00    -7.266958\n",
       "2018-01-01 09:00:00   -10.493315\n",
       "Freq: 60T, dtype: float64"
      ]
     },
     "execution_count": 70,
     "metadata": {},
     "output_type": "execute_result"
    }
   ],
   "source": [
    "ts_long.resample('60min').sum()"
   ]
  },
  {
   "cell_type": "markdown",
   "metadata": {},
   "source": [
    "Even the Open, High, Low, Close within a specified time period is possible."
   ]
  },
  {
   "cell_type": "code",
   "execution_count": 71,
   "metadata": {},
   "outputs": [
    {
     "data": {
      "text/html": [
       "<div>\n",
       "<style>\n",
       "    .dataframe thead tr:only-child th {\n",
       "        text-align: right;\n",
       "    }\n",
       "\n",
       "    .dataframe thead th {\n",
       "        text-align: left;\n",
       "    }\n",
       "\n",
       "    .dataframe tbody tr th {\n",
       "        vertical-align: top;\n",
       "    }\n",
       "</style>\n",
       "<table border=\"1\" class=\"dataframe\">\n",
       "  <thead>\n",
       "    <tr style=\"text-align: right;\">\n",
       "      <th></th>\n",
       "      <th>open</th>\n",
       "      <th>high</th>\n",
       "      <th>low</th>\n",
       "      <th>close</th>\n",
       "    </tr>\n",
       "  </thead>\n",
       "  <tbody>\n",
       "    <tr>\n",
       "      <th>2018-01-01 00:00:00</th>\n",
       "      <td>-0.012577</td>\n",
       "      <td>2.496662</td>\n",
       "      <td>-1.663505</td>\n",
       "      <td>0.486972</td>\n",
       "    </tr>\n",
       "    <tr>\n",
       "      <th>2018-01-01 01:00:00</th>\n",
       "      <td>-0.722748</td>\n",
       "      <td>2.921691</td>\n",
       "      <td>-3.515571</td>\n",
       "      <td>0.152024</td>\n",
       "    </tr>\n",
       "    <tr>\n",
       "      <th>2018-01-01 02:00:00</th>\n",
       "      <td>1.770474</td>\n",
       "      <td>2.213832</td>\n",
       "      <td>-2.134143</td>\n",
       "      <td>-0.314518</td>\n",
       "    </tr>\n",
       "    <tr>\n",
       "      <th>2018-01-01 03:00:00</th>\n",
       "      <td>-0.668625</td>\n",
       "      <td>2.543170</td>\n",
       "      <td>-2.324180</td>\n",
       "      <td>2.030725</td>\n",
       "    </tr>\n",
       "    <tr>\n",
       "      <th>2018-01-01 04:00:00</th>\n",
       "      <td>0.324577</td>\n",
       "      <td>2.373058</td>\n",
       "      <td>-2.010873</td>\n",
       "      <td>-1.411647</td>\n",
       "    </tr>\n",
       "    <tr>\n",
       "      <th>2018-01-01 05:00:00</th>\n",
       "      <td>0.144112</td>\n",
       "      <td>1.963429</td>\n",
       "      <td>-2.072134</td>\n",
       "      <td>1.146733</td>\n",
       "    </tr>\n",
       "    <tr>\n",
       "      <th>2018-01-01 06:00:00</th>\n",
       "      <td>0.575944</td>\n",
       "      <td>1.398898</td>\n",
       "      <td>-2.028591</td>\n",
       "      <td>-0.758015</td>\n",
       "    </tr>\n",
       "    <tr>\n",
       "      <th>2018-01-01 07:00:00</th>\n",
       "      <td>0.703683</td>\n",
       "      <td>1.966859</td>\n",
       "      <td>-2.596084</td>\n",
       "      <td>-0.235211</td>\n",
       "    </tr>\n",
       "    <tr>\n",
       "      <th>2018-01-01 08:00:00</th>\n",
       "      <td>-0.151082</td>\n",
       "      <td>2.596771</td>\n",
       "      <td>-2.664688</td>\n",
       "      <td>0.913425</td>\n",
       "    </tr>\n",
       "    <tr>\n",
       "      <th>2018-01-01 09:00:00</th>\n",
       "      <td>-0.038656</td>\n",
       "      <td>1.680943</td>\n",
       "      <td>-1.919036</td>\n",
       "      <td>0.551351</td>\n",
       "    </tr>\n",
       "  </tbody>\n",
       "</table>\n",
       "</div>"
      ],
      "text/plain": [
       "                         open      high       low     close\n",
       "2018-01-01 00:00:00 -0.012577  2.496662 -1.663505  0.486972\n",
       "2018-01-01 01:00:00 -0.722748  2.921691 -3.515571  0.152024\n",
       "2018-01-01 02:00:00  1.770474  2.213832 -2.134143 -0.314518\n",
       "2018-01-01 03:00:00 -0.668625  2.543170 -2.324180  2.030725\n",
       "2018-01-01 04:00:00  0.324577  2.373058 -2.010873 -1.411647\n",
       "2018-01-01 05:00:00  0.144112  1.963429 -2.072134  1.146733\n",
       "2018-01-01 06:00:00  0.575944  1.398898 -2.028591 -0.758015\n",
       "2018-01-01 07:00:00  0.703683  1.966859 -2.596084 -0.235211\n",
       "2018-01-01 08:00:00 -0.151082  2.596771 -2.664688  0.913425\n",
       "2018-01-01 09:00:00 -0.038656  1.680943 -1.919036  0.551351"
      ]
     },
     "execution_count": 71,
     "metadata": {},
     "output_type": "execute_result"
    }
   ],
   "source": [
    "ts_long.resample('60min').ohlc()"
   ]
  },
  {
   "cell_type": "markdown",
   "metadata": {},
   "source": [
    "** Up Sampling **"
   ]
  },
  {
   "cell_type": "code",
   "execution_count": 72,
   "metadata": {
    "collapsed": true
   },
   "outputs": [],
   "source": [
    "datetime_short = pd.date_range(start='2017-01-01', periods=5, freq='W')\n",
    "ts_short = pd.Series(np.random.randn(len(datetime_short)), index=datetime_short)"
   ]
  },
  {
   "cell_type": "code",
   "execution_count": 73,
   "metadata": {},
   "outputs": [
    {
     "data": {
      "text/plain": [
       "2017-01-01    0.609543\n",
       "2017-01-08    0.358023\n",
       "2017-01-15   -0.600486\n",
       "2017-01-22   -0.458635\n",
       "2017-01-29    0.701522\n",
       "Freq: W-SUN, dtype: float64"
      ]
     },
     "execution_count": 73,
     "metadata": {},
     "output_type": "execute_result"
    }
   ],
   "source": [
    "ts_short"
   ]
  },
  {
   "cell_type": "code",
   "execution_count": 74,
   "metadata": {},
   "outputs": [
    {
     "data": {
      "text/plain": [
       "2017-01-01    0.609543\n",
       "2017-01-02         NaN\n",
       "2017-01-03         NaN\n",
       "2017-01-04         NaN\n",
       "2017-01-05         NaN\n",
       "2017-01-06         NaN\n",
       "2017-01-07         NaN\n",
       "2017-01-08    0.358023\n",
       "2017-01-09         NaN\n",
       "2017-01-10         NaN\n",
       "2017-01-11         NaN\n",
       "2017-01-12         NaN\n",
       "2017-01-13         NaN\n",
       "2017-01-14         NaN\n",
       "2017-01-15   -0.600486\n",
       "2017-01-16         NaN\n",
       "2017-01-17         NaN\n",
       "2017-01-18         NaN\n",
       "2017-01-19         NaN\n",
       "2017-01-20         NaN\n",
       "2017-01-21         NaN\n",
       "2017-01-22   -0.458635\n",
       "2017-01-23         NaN\n",
       "2017-01-24         NaN\n",
       "2017-01-25         NaN\n",
       "2017-01-26         NaN\n",
       "2017-01-27         NaN\n",
       "2017-01-28         NaN\n",
       "2017-01-29    0.701522\n",
       "Freq: D, dtype: float64"
      ]
     },
     "execution_count": 74,
     "metadata": {},
     "output_type": "execute_result"
    }
   ],
   "source": [
    "ts_short.resample('D').mean()"
   ]
  },
  {
   "cell_type": "code",
   "execution_count": 75,
   "metadata": {},
   "outputs": [
    {
     "data": {
      "text/plain": [
       "2017-01-01    0.609543\n",
       "2017-01-02    0.609543\n",
       "2017-01-03    0.609543\n",
       "2017-01-04    0.609543\n",
       "2017-01-05    0.609543\n",
       "2017-01-06    0.609543\n",
       "2017-01-07    0.609543\n",
       "2017-01-08    0.358023\n",
       "2017-01-09    0.358023\n",
       "2017-01-10    0.358023\n",
       "2017-01-11    0.358023\n",
       "2017-01-12    0.358023\n",
       "2017-01-13    0.358023\n",
       "2017-01-14    0.358023\n",
       "2017-01-15   -0.600486\n",
       "2017-01-16   -0.600486\n",
       "2017-01-17   -0.600486\n",
       "2017-01-18   -0.600486\n",
       "2017-01-19   -0.600486\n",
       "2017-01-20   -0.600486\n",
       "2017-01-21   -0.600486\n",
       "2017-01-22   -0.458635\n",
       "2017-01-23   -0.458635\n",
       "2017-01-24   -0.458635\n",
       "2017-01-25   -0.458635\n",
       "2017-01-26   -0.458635\n",
       "2017-01-27   -0.458635\n",
       "2017-01-28   -0.458635\n",
       "2017-01-29    0.701522\n",
       "Freq: D, dtype: float64"
      ]
     },
     "execution_count": 75,
     "metadata": {},
     "output_type": "execute_result"
    }
   ],
   "source": [
    "ts_short.resample('D').ffill() #Can also backfill with bfill"
   ]
  },
  {
   "cell_type": "code",
   "execution_count": 76,
   "metadata": {},
   "outputs": [
    {
     "data": {
      "text/plain": [
       "2017-01-01    0.609543\n",
       "2017-01-02    0.609543\n",
       "2017-01-03    0.609543\n",
       "2017-01-04         NaN\n",
       "2017-01-05         NaN\n",
       "2017-01-06         NaN\n",
       "2017-01-07         NaN\n",
       "2017-01-08    0.358023\n",
       "2017-01-09    0.358023\n",
       "2017-01-10    0.358023\n",
       "2017-01-11         NaN\n",
       "2017-01-12         NaN\n",
       "2017-01-13         NaN\n",
       "2017-01-14         NaN\n",
       "2017-01-15   -0.600486\n",
       "2017-01-16   -0.600486\n",
       "2017-01-17   -0.600486\n",
       "2017-01-18         NaN\n",
       "2017-01-19         NaN\n",
       "2017-01-20         NaN\n",
       "2017-01-21         NaN\n",
       "2017-01-22   -0.458635\n",
       "2017-01-23   -0.458635\n",
       "2017-01-24   -0.458635\n",
       "2017-01-25         NaN\n",
       "2017-01-26         NaN\n",
       "2017-01-27         NaN\n",
       "2017-01-28         NaN\n",
       "2017-01-29    0.701522\n",
       "Freq: D, dtype: float64"
      ]
     },
     "execution_count": 76,
     "metadata": {},
     "output_type": "execute_result"
    }
   ],
   "source": [
    "ts_short.resample('D').ffill(2) # limit number of fills"
   ]
  },
  {
   "cell_type": "code",
   "execution_count": 77,
   "metadata": {},
   "outputs": [
    {
     "data": {
      "text/plain": [
       "2017-01-01    0.609543\n",
       "2017-01-02    0.573611\n",
       "2017-01-03    0.537680\n",
       "2017-01-04    0.501748\n",
       "2017-01-05    0.465817\n",
       "2017-01-06    0.429885\n",
       "2017-01-07    0.393954\n",
       "2017-01-08    0.358023\n",
       "2017-01-09    0.221093\n",
       "2017-01-10    0.084163\n",
       "2017-01-11   -0.052767\n",
       "2017-01-12   -0.189696\n",
       "2017-01-13   -0.326626\n",
       "2017-01-14   -0.463556\n",
       "2017-01-15   -0.600486\n",
       "2017-01-16   -0.580221\n",
       "2017-01-17   -0.559957\n",
       "2017-01-18   -0.539692\n",
       "2017-01-19   -0.519428\n",
       "2017-01-20   -0.499164\n",
       "2017-01-21   -0.478899\n",
       "2017-01-22   -0.458635\n",
       "2017-01-23   -0.292898\n",
       "2017-01-24   -0.127161\n",
       "2017-01-25    0.038575\n",
       "2017-01-26    0.204312\n",
       "2017-01-27    0.370048\n",
       "2017-01-28    0.535785\n",
       "2017-01-29    0.701522\n",
       "Freq: D, dtype: float64"
      ]
     },
     "execution_count": 77,
     "metadata": {},
     "output_type": "execute_result"
    }
   ],
   "source": [
    "ts_short.resample('D').interpolate() # linear interpolation"
   ]
  }
 ],
 "metadata": {
  "kernelspec": {
   "display_name": "Python [default]",
   "language": "python",
   "name": "python3"
  },
  "language_info": {
   "codemirror_mode": {
    "name": "ipython",
    "version": 3
   },
   "file_extension": ".py",
   "mimetype": "text/x-python",
   "name": "python",
   "nbconvert_exporter": "python",
   "pygments_lexer": "ipython3",
   "version": "3.5.3"
  }
 },
 "nbformat": 4,
 "nbformat_minor": 1
}
